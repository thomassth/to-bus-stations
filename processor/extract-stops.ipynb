{
 "cells": [
  {
   "cell_type": "code",
   "execution_count": 56,
   "metadata": {},
   "outputs": [],
   "source": [
    "import json"
   ]
  },
  {
   "cell_type": "code",
   "execution_count": 57,
   "metadata": {},
   "outputs": [],
   "source": [
    "# Part 1: get a list of routes\n",
    "\n",
    "with open('../data/ttc-routes.json', 'r') as f:\n",
    "  data = json.load(f)\n",
    "\n",
    "routes = []\n",
    "for route in data['route']:\n",
    "  routes.append(int(route['tag']))"
   ]
  },
  {
   "cell_type": "code",
   "execution_count": 58,
   "metadata": {},
   "outputs": [],
   "source": [
    "# Part 2: group all stop info together\n",
    "\n",
    "route_dictionary = {}\n",
    "\n",
    "data_path = '../data/ttc/'\n",
    "\n",
    "for route in routes:\n",
    "    with open('../data/ttc/' + str(route) + '.json', 'r') as f:\n",
    "        data = json.load(f)\n",
    "\n",
    "    for direction in data['route']['direction']:\n",
    "        directionText = direction['title'].split(\" - \")[0]\n",
    "        for stop in direction['stop']:\n",
    "            tag = stop['tag']\n",
    "            if 'branch' in direction:\n",
    "                if tag in route_dictionary:\n",
    "                    route_dictionary[tag]['lines'].append(direction['branch'])\n",
    "                    if directionText not in route_dictionary[tag]['directions']:\n",
    "                        route_dictionary[tag]['directions'] = \", \".join([route_dictionary[tag]['directions'], directionText])\n",
    "                else:\n",
    "                    filteredStop = [item for item in data['route']['stop'] if item['tag'] == tag]\n",
    "                    route_dictionary[tag] = filteredStop[0]\n",
    "                    route_dictionary[tag]['directions'] = directionText\n",
    "                    route_dictionary[tag]['lines'] = [direction['branch']]\n",
    "\n",
    "filtered_dict = {key: value for key, value in route_dictionary.items() if 'stopId' in value}\n",
    "route_array = [{**value, 'id': value['stopId']} for key, value in filtered_dict.items()]"
   ]
  },
  {
   "cell_type": "code",
   "execution_count": 59,
   "metadata": {},
   "outputs": [],
   "source": [
    "# Part 3: generate files\n",
    "\n",
    "import csv\n",
    "\n",
    "with open(data_path + 'stops.json', 'w') as json_file:\n",
    "    json.dump(route_array, json_file)\n",
    "\n",
    "with open(data_path + 'stops.csv', 'w', newline='') as csv_file:\n",
    "    if route_array:\n",
    "        writer = csv.DictWriter(csv_file, fieldnames=route_array[0].keys())\n",
    "        writer.writeheader()\n",
    "        writer.writerows(route_array)\n"
   ]
  }
 ],
 "metadata": {
  "kernelspec": {
   "display_name": "Python 3",
   "language": "python",
   "name": "python3"
  },
  "language_info": {
   "codemirror_mode": {
    "name": "ipython",
    "version": 3
   },
   "file_extension": ".py",
   "mimetype": "text/x-python",
   "name": "python",
   "nbconvert_exporter": "python",
   "pygments_lexer": "ipython3",
   "version": "3.11.9"
  }
 },
 "nbformat": 4,
 "nbformat_minor": 2
}
