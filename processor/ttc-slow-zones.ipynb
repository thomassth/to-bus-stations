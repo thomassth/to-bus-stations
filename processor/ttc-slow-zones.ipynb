{
 "cells": [
  {
   "cell_type": "code",
   "execution_count": null,
   "id": "c2e9092e",
   "metadata": {},
   "outputs": [],
   "source": [
    "from bs4 import BeautifulSoup\n",
    "# import requests\n",
    "import pandas as pd\n",
    "from pathlib import Path"
   ]
  },
  {
   "cell_type": "code",
   "execution_count": null,
   "id": "1ce52a24",
   "metadata": {},
   "outputs": [],
   "source": [
    "headers = {'User-Agent': 'Mozilla/5.0 (Windows NT 10.0; Win64; x64); to-bus-stations'}\n",
    "\n",
    "\n",
    "with open('../data/ttc/ttc-slow-zones.html', 'r', encoding='utf-8') as f:\n",
    "    html = f.read()\n",
    "\n",
    "soup_html = BeautifulSoup(html, 'html.parser')\n"
   ]
  },
  {
   "cell_type": "markdown",
   "id": "fb68445b",
   "metadata": {},
   "source": [
    "## save rendered slow zone img"
   ]
  },
  {
   "cell_type": "code",
   "execution_count": null,
   "id": "1cb3bff8",
   "metadata": {},
   "outputs": [],
   "source": [
    "# slow_zone_img = ''\n",
    "\n",
    "# imgs = soup_html.select('img')\n",
    "\n",
    "# for img in imgs:\n",
    "#     if('reduced speed zone' in str(img.get('alt')).lower()):\n",
    "#         slow_zone_img = str(img.get('src'))\n",
    "\n",
    "# if(slow_zone_img):\n",
    "    # response = requests.get(slow_zone_img, headers=headers)\n",
    "\n",
    "    # # make sure the path exist\n",
    "    # path = '../data/ttc/slow-zone'\n",
    "    # Path(path).mkdir(parents=True, exist_ok=True)\n",
    "\n",
    "    # with open(path + '/slow-zone.svg', 'w', encoding='utf-8') as f:\n",
    "    #     f.write(response.text)\n"
   ]
  },
  {
   "cell_type": "markdown",
   "id": "5c0a8a98",
   "metadata": {},
   "source": [
    "## save slow zone table data"
   ]
  },
  {
   "cell_type": "code",
   "execution_count": null,
   "id": "2ea423c6",
   "metadata": {},
   "outputs": [],
   "source": [
    "table_headers = soup_html.select('h2')\n",
    "\n",
    "slow_zone_table_names = [header.get_text() for header in table_headers]\n",
    "\n",
    "tables = soup_html.select('table')\n",
    "\n",
    "slow_zone_table = []\n",
    "\n",
    "table_header = []\n",
    "\n",
    "for row_index,table in enumerate(tables):\n",
    "    table_name = slow_zone_table_names[row_index]\n",
    "\n",
    "    rows = []\n",
    "    for row in (table.find_all('tr')):\n",
    "        cols = row.find_all(['td', 'th'])\n",
    "        row_data = [col.get_text(strip=True) for col in cols]\n",
    "        row_data.insert(0, table_name)\n",
    "        rows.append(row_data)\n",
    "    \n",
    "    table_header=rows[0]\n",
    "    df = pd.DataFrame(rows[1:])\n",
    "    slow_zone_table.append(df)\n",
    "\n",
    "# change the 1st col of the merged table title\n",
    "\n",
    "table_header[0] = 'Line'\n",
    "\n",
    "slow_zone_table.insert(0, pd.DataFrame([table_header]))\n",
    "\n",
    "# Merge all tables (you can customize how)\n",
    "merged = pd.concat(slow_zone_table, ignore_index=True)\n",
    "\n",
    "# make sure the path exist\n",
    "path = '../data/ttc/slow-zone/'\n",
    "Path(path).mkdir(parents=True, exist_ok=True)\n",
    "\n",
    "# Save to CSV\n",
    "merged.to_csv(path + 'ttc-slow-zones.csv', index=False, header=False)\n"
   ]
  }
 ],
 "metadata": {
  "kernelspec": {
   "display_name": ".venv",
   "language": "python",
   "name": "python3"
  },
  "language_info": {
   "codemirror_mode": {
    "name": "ipython",
    "version": 3
   },
   "file_extension": ".py",
   "mimetype": "text/x-python",
   "name": "python",
   "nbconvert_exporter": "python",
   "pygments_lexer": "ipython3",
   "version": "3.13.5"
  }
 },
 "nbformat": 4,
 "nbformat_minor": 5
}
