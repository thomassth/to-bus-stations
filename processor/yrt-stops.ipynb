{
 "cells": [
  {
   "cell_type": "code",
   "execution_count": null,
   "metadata": {},
   "outputs": [],
   "source": [
    "import json"
   ]
  },
  {
   "cell_type": "code",
   "execution_count": null,
   "metadata": {},
   "outputs": [],
   "source": [
    "# Part 1: get a list of routes\n",
    "\n",
    "with open('../data/yrt-routes.json', 'r') as f:\n",
    "  data = json.load(f)\n",
    "\n",
    "routesSet = data['result']['lines']\n"
   ]
  },
  {
   "cell_type": "code",
   "execution_count": null,
   "metadata": {},
   "outputs": [],
   "source": [
    "# Part 2: group all stop info together\n",
    "\n",
    "route_dictionary = {}\n",
    "\n",
    "data_path = '../data/yrt/'\n",
    "\n",
    "for route in routesSet:\n",
    "    line_dir_dictionary = {}\n",
    "    for direction in route['directions']:\n",
    "        line_dir_dictionary[direction['lineDirIdContext'][0]['lineDirId']] = direction\n",
    "\n",
    "    with open('../data/yrt/routes/' + str(route['lineAbbr']) + '.json', 'r') as f:\n",
    "        data = json.load(f)\n",
    "\n",
    "    for direction in data['result']['directions']:\n",
    "        direction_data = line_dir_dictionary[direction['lineDirId']]\n",
    "        direction = direction_data['directionName']\n",
    "        line = direction_data['lineDirIdContext'][0]['lineAbbr']\n",
    "\n",
    "        # directionText = direction['title'].split(\" - \")[0]\n",
    "        # for stop in direction['stop']:\n",
    "        #     tag = stop['tag']\n",
    "        #     if 'branch' in direction:\n",
    "        #         if tag in route_dictionary:\n",
    "        #             route_dictionary[tag]['lines'].append(direction['branch'])\n",
    "        #             if directionText not in route_dictionary[tag]['directions']:\n",
    "        #                 route_dictionary[tag]['directions'] = \", \".join([route_dictionary[tag]['directions'], directionText])\n",
    "        #         else:\n",
    "        #             filteredStop = [item for item in data['route']['stop'] if item['tag'] == tag]\n",
    "        #             route_dictionary[tag] = filteredStop[0]\n",
    "        #             route_dictionary[tag]['directions'] = directionText\n",
    "        #             route_dictionary[tag]['lines'] = [direction['branch']]\n",
    "\n",
    "# filtered_dict = {key: value for key, value in route_dictionary.items() if 'stopId' in value}\n",
    "# route_array = [{**value, 'id': value['stopId']} for key, value in filtered_dict.items()]"
   ]
  },
  {
   "cell_type": "code",
   "execution_count": null,
   "metadata": {},
   "outputs": [],
   "source": [
    "# # Part 3: generate files\n",
    "\n",
    "# import csv\n",
    "\n",
    "# with open(data_path + 'stops.json', 'w') as json_file:\n",
    "#     json.dump(route_array, json_file)\n",
    "\n",
    "# with open(data_path + 'stops.csv', 'w', newline='') as csv_file:\n",
    "#     if route_array:\n",
    "#         writer = csv.DictWriter(csv_file, fieldnames=route_array[0].keys())\n",
    "#         writer.writeheader()\n",
    "#         writer.writerows(route_array)\n"
   ]
  }
 ],
 "metadata": {
  "kernelspec": {
   "display_name": "Python 3",
   "language": "python",
   "name": "python3"
  },
  "language_info": {
   "codemirror_mode": {
    "name": "ipython",
    "version": 3
   },
   "file_extension": ".py",
   "mimetype": "text/x-python",
   "name": "python",
   "nbconvert_exporter": "python",
   "pygments_lexer": "ipython3",
   "version": "3.13.5"
  }
 },
 "nbformat": 4,
 "nbformat_minor": 2
}
