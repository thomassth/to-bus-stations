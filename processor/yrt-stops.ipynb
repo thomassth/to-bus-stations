{
 "cells": [
  {
   "cell_type": "code",
   "execution_count": 5,
   "metadata": {},
   "outputs": [],
   "source": [
    "import json"
   ]
  },
  {
   "cell_type": "code",
   "execution_count": 6,
   "metadata": {},
   "outputs": [],
   "source": [
    "# Part 1: get a list of routes\n",
    "\n",
    "with open('../data/yrt-routes.json', 'r') as f:\n",
    "  data = json.load(f)\n",
    "\n",
    "routes_set = data['result']['lines']\n"
   ]
  },
  {
   "cell_type": "code",
   "execution_count": 7,
   "metadata": {},
   "outputs": [],
   "source": [
    "# Part 2: group all stop info together\n",
    "\n",
    "stop_dictionary = {}\n",
    "\n",
    "data_path = '../data/yrt/'\n",
    "\n",
    "for route in routes_set:\n",
    "    line_number=route['lineAbbr'].replace(\"|\", \"_\")\n",
    "    line_dir_dictionary = {}\n",
    "    for direction in route['directions']:\n",
    "        line_dir_dictionary[direction['lineDirIdContext'][0]['lineDirId']] = direction\n",
    "\n",
    "    with open('../data/yrt/routes/' + str(line_number) + '.json', 'r') as f:\n",
    "        data = json.load(f)\n",
    "\n",
    "    for direction in data['result']['directions']:\n",
    "        direction_data = line_dir_dictionary[direction['lineDirId']]\n",
    "        direction_text = direction_data['directionName']\n",
    "        line = direction_data['lineDirIdContext'][0]['lineAbbr']\n",
    "\n",
    "        # print(direction_data)\n",
    "        # print(direction['stops'])\n",
    "\n",
    "        for stop in direction['stops']:\n",
    "            # stopId = URL\n",
    "            # stopPublicId = what you can see on bus stops\n",
    "\n",
    "            stopPublicId = stop['stopPublicId']\n",
    "\n",
    "            if stopPublicId in stop_dictionary:\n",
    "                stop_dictionary[stop['stopPublicId']]['lines'].append(line)\n",
    "                stop_dictionary[stop['stopPublicId']]['directionPerLine'].append(direction_text)\n",
    "\n",
    "            else:\n",
    "                stop_dictionary[stop['stopPublicId']] = stop\n",
    "                stop_dictionary[stop['stopPublicId']]['lines'] = [line]\n",
    "                stop_dictionary[stop['stopPublicId']]['directionPerLine'] = [direction_text]\n",
    "        \n",
    "route_array = [{**value, 'id': value['stopPublicId']} for key, value in stop_dictionary.items()]"
   ]
  },
  {
   "cell_type": "code",
   "execution_count": 8,
   "metadata": {},
   "outputs": [],
   "source": [
    "# # Part 3: generate files\n",
    "\n",
    "import csv\n",
    "\n",
    "with open(data_path + 'stops.json', 'w') as json_file:\n",
    "    json.dump(route_array, json_file)\n",
    "\n",
    "with open(data_path + 'stops.csv', 'w', newline='') as csv_file:\n",
    "    if route_array:\n",
    "        writer = csv.DictWriter(csv_file, fieldnames=route_array[0].keys())\n",
    "        writer.writeheader()\n",
    "        writer.writerows(route_array)\n"
   ]
  }
 ],
 "metadata": {
  "kernelspec": {
   "display_name": "Python 3",
   "language": "python",
   "name": "python3"
  },
  "language_info": {
   "codemirror_mode": {
    "name": "ipython",
    "version": 3
   },
   "file_extension": ".py",
   "mimetype": "text/x-python",
   "name": "python",
   "nbconvert_exporter": "python",
   "pygments_lexer": "ipython3",
   "version": "3.13.5"
  }
 },
 "nbformat": 4,
 "nbformat_minor": 2
}
