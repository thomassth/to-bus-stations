{
 "cells": [
  {
   "cell_type": "code",
   "execution_count": 1,
   "id": "31604a50",
   "metadata": {},
   "outputs": [],
   "source": [
    "import requests\n",
    "import json\n",
    "from pathlib import Path"
   ]
  },
  {
   "cell_type": "code",
   "execution_count": 2,
   "id": "59a1afee",
   "metadata": {},
   "outputs": [
    {
     "name": "stdout",
     "output_type": "stream",
     "text": [
      "<Response [200]>\n"
     ]
    }
   ],
   "source": [
    "headers = {'User-Agent': 'Mozilla/5.0 (Windows NT 10.0; Win64; x64); to-bus-stations'}\n",
    "response = requests.get('https://www.ttc.ca/riding-the-ttc/Updates/Reduced-Speed-Zones', headers=headers)\n",
    "# make sure the path exist\n",
    "path = '../data/ttc'\n",
    "Path(path).mkdir(parents=True, exist_ok=True)\n",
    "print(response)\n",
    "# store the result into a json file.\n",
    "with open(path + '/ttc-slow-zones.html', 'w',  encoding='utf-8') as outfile:\n",
    "    outfile.write(response.text)\n"
   ]
  }
 ],
 "metadata": {
  "kernelspec": {
   "display_name": ".venv",
   "language": "python",
   "name": "python3"
  },
  "language_info": {
   "codemirror_mode": {
    "name": "ipython",
    "version": 3
   },
   "file_extension": ".py",
   "mimetype": "text/x-python",
   "name": "python",
   "nbconvert_exporter": "python",
   "pygments_lexer": "ipython3",
   "version": "3.13.5"
  }
 },
 "nbformat": 4,
 "nbformat_minor": 5
}
