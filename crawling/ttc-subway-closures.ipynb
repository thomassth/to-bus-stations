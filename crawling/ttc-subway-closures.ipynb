{
 "cells": [
  {
   "cell_type": "code",
   "execution_count": null,
   "metadata": {},
   "outputs": [],
   "source": [
    "import json\n",
    "\n",
    "# Part 1: retrieve the HTML from the JSON response\n",
    "with open('../data/ttc-subway-closures.json') as f:\n",
    "    data = json.load(f)\n",
    "\n",
    "results = data['Results']\n",
    "\n",
    "html_parts = list(map(lambda x: x['Html'], results))"
   ]
  },
  {
   "cell_type": "code",
   "execution_count": null,
   "metadata": {},
   "outputs": [],
   "source": [
    "from bs4 import BeautifulSoup\n",
    "from datetime import datetime\n",
    "\n",
    "# Part 2: data cleanup\n",
    "def clean_text(text):\n",
    "    return text.replace('\\xa0', ' ').replace('â€“', '-').replace('\\u2013', '-').strip()\n",
    "\n",
    "def parse_date(date_str):\n",
    "    return datetime.strptime(date_str, '%B %d, %Y').date().isoformat()\n",
    "\n",
    "closures = [\n",
    "    {\n",
    "        'start_date': parse_date(clean_text((soup := BeautifulSoup(html, 'html.parser')).select_one('.field-starteffectivedate').get_text())),\n",
    "        'end_date': parse_date(clean_text(soup.select_one('.field-endeffectivedate').get_text())),\n",
    "        'line': clean_text(soup.select_one('.field-routename').get_text()),        \n",
    "        'text': clean_text(soup.get_text()),\n",
    "\n",
    "    }\n",
    "    for html in html_parts\n",
    "]"
   ]
  },
  {
   "cell_type": "code",
   "execution_count": null,
   "metadata": {},
   "outputs": [],
   "source": [
    "from pathlib import Path\n",
    "\n",
    "# Part 3: save the data\n",
    "\n",
    "# make sure the path exist\n",
    "path = '../data/ttc/subway-closures'\n",
    "Path(path).mkdir(parents=True, exist_ok=True)\n",
    "\n",
    "closuresByDate = []\n",
    "# sort by start_date\n",
    "closures_by_start_date = {}\n",
    "for closure in closures:\n",
    "    start_date = closure['start_date']\n",
    "    if start_date not in closures_by_start_date:\n",
    "        closures_by_start_date[start_date] = []\n",
    "    closures_by_start_date[start_date].append(closure)\n",
    "\n",
    "closuresByDate = [closures_by_start_date[date] for date in sorted(closures_by_start_date)]\n",
    "\n",
    "print(closuresByDate)\n",
    "\n",
    "# Save each object to a separate JSON file\n",
    "for closure in closuresByDate:\n",
    "    filename = f\"{closure[0]['start_date']}.json\"\n",
    "    filepath = Path(path) / filename\n",
    "    with open(filepath, 'w') as outfile:\n",
    "        print('now processing ' + str(filename))\n",
    "        json.dump(closure, outfile)\n",
    "\n",
    "print('done')"
   ]
  }
 ],
 "metadata": {
  "kernelspec": {
   "display_name": "Python 3",
   "language": "python",
   "name": "python3"
  },
  "language_info": {
   "codemirror_mode": {
    "name": "ipython",
    "version": 3
   },
   "file_extension": ".py",
   "mimetype": "text/x-python",
   "name": "python",
   "nbconvert_exporter": "python",
   "pygments_lexer": "ipython3",
   "version": "3.11.9"
  }
 },
 "nbformat": 4,
 "nbformat_minor": 2
}
