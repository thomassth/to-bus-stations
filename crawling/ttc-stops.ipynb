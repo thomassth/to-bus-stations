{
 "cells": [
  {
   "cell_type": "code",
   "execution_count": null,
   "metadata": {},
   "outputs": [],
   "source": [
    "import requests\n",
    "import json\n",
    "from pathlib import Path"
   ]
  },
  {
   "cell_type": "code",
   "execution_count": null,
   "metadata": {},
   "outputs": [],
   "source": [
    "# Part 1: get a list of routes\n",
    "\n",
    "with open('../data/ttc-routes.json', 'r') as f:\n",
    "  data = json.load(f)\n",
    "\n",
    "routes = []\n",
    "for route in data['route']:\n",
    "  routes.append(int(route['tag']))"
   ]
  },
  {
   "cell_type": "code",
   "execution_count": null,
   "metadata": {},
   "outputs": [],
   "source": [
    "# Part 2: get the stops from each lines\n",
    "\n",
    "for route in routes:\n",
    "  # making a GET request\n",
    "  response = requests.get('https://retro.umoiq.com/service/publicJSONFeed?command=routeConfig&a=ttc&r=' + str(route))\n",
    "  # make sure the path exist\n",
    "  path = '../data/ttc/routes'\n",
    "  Path(path).mkdir(parents=True, exist_ok=True)\n",
    "  # store the result into a json file.\n",
    "  with open(path + '/' + str(route) + '.json', 'w') as outfile:\n",
    "    print('now processing ' + str(route))\n",
    "    json.dump(response.json(), outfile)"
   ]
  }
 ],
 "metadata": {
  "kernelspec": {
   "display_name": "Python 3",
   "language": "python",
   "name": "python3"
  },
  "language_info": {
   "codemirror_mode": {
    "name": "ipython",
    "version": 3
   },
   "file_extension": ".py",
   "mimetype": "text/x-python",
   "name": "python",
   "nbconvert_exporter": "python",
   "pygments_lexer": "ipython3",
   "version": "3.13.5"
  }
 },
 "nbformat": 4,
 "nbformat_minor": 2
}
